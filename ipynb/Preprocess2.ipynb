{
 "cells": [
  {
   "cell_type": "code",
   "execution_count": 1,
   "metadata": {
    "collapsed": false
   },
   "outputs": [],
   "source": [
    "#LOADING LIBRARIES\n",
    "%matplotlib inline\n",
    "#%pylab inline\n",
    "\n",
    "import pandas as pd\n",
    "#import pylab as pl\n",
    "import numpy as np\n",
    "import matplotlib.pyplot as plt\n",
    "#import pylab\n",
    "import sklearn\n",
    "import time\n",
    "import gc\n",
    "import re\n",
    "\n",
    "from sklearn import cross_validation, metrics, neighbors\n",
    "from sklearn.preprocessing import scale, LabelBinarizer\n",
    "from sklearn.grid_search import GridSearchCV\n",
    "from scipy.stats import gaussian_kde\n",
    "from sklearn.svm import SVC, NuSVC, LinearSVC, SVR, NuSVR\n",
    "from sklearn.tree import DecisionTreeClassifier\n",
    "from sklearn.base import BaseEstimator, ClassifierMixin\n",
    "from sklearn.ensemble import RandomForestClassifier, RandomForestRegressor, AdaBoostClassifier, ExtraTreesClassifier\n",
    "from sklearn.neighbors import KNeighborsClassifier\n",
    "from sklearn.multiclass import OneVsRestClassifier\n",
    "from sklearn.metrics import f1_score, make_scorer, roc_auc_score\n",
    "from sklearn.cross_validation import train_test_split\n",
    "from sklearn.decomposition import PCA, RandomizedPCA, TruncatedSVD\n",
    "from sklearn.linear_model import LinearRegression, Ridge, RidgeClassifier, LogisticRegression, SGDClassifier\n",
    "from sklearn.datasets import load_svmlight_file\n",
    "from sklearn.naive_bayes import BernoulliNB\n",
    "from sklearn.preprocessing import LabelEncoder\n",
    "#from xgboost.sklearn import XGBClassifier\n",
    "from scipy import sparse\n",
    "from multiprocessing import Pool\n",
    "\n",
    "\n",
    "gc.enable()\n",
    "np.random.seed(455)\n",
    "\n",
    "pd.set_option('display.max_rows', 20)\n",
    "pd.set_option('display.max_columns', 200)\n",
    "\n",
    "\n"
   ]
  },
  {
   "cell_type": "code",
   "execution_count": 2,
   "metadata": {
    "collapsed": false
   },
   "outputs": [
    {
     "name": "stdout",
     "output_type": "stream",
     "text": [
      "Total users in train:  213451\n",
      "Total users in test:  62096\n"
     ]
    }
   ],
   "source": [
    "#LOADING AND JOINING THE DATA\n",
    "\n",
    "import os\n",
    "import glob\n",
    "#print (glob.glob(\"../kaggle_data/*.csv\"))\n",
    "\n",
    "df_train = pd.read_csv('../kaggle_data/train_users_2.csv')\n",
    "df_test = pd.read_csv('../kaggle_data/test_users.csv')\n",
    "labels = df_train['country_destination'].values\n",
    "\n",
    "\n",
    "id_test = df_test['id']\n",
    "count_rows_train = df_train.shape[0]\n",
    "count_rows_test = df_test.shape[0]\n",
    "print (\"Total users in train: \",count_rows_train)\n",
    "print (\"Total users in test: \",count_rows_test)\n",
    "\n",
    "df_test['country_destination'] = -1\n",
    "\n",
    "#Creating a DataFrame with train+test data\n",
    "df_all = pd.concat((df_train, df_test), axis=0, ignore_index=True)\n",
    "#Filling nan\n",
    "df_all = df_all.fillna(-1)\n",
    "\n",
    "del df_test, df_train\n",
    "\n"
   ]
  },
  {
   "cell_type": "code",
   "execution_count": 3,
   "metadata": {
    "collapsed": false,
    "scrolled": false
   },
   "outputs": [
    {
     "name": "stdout",
     "output_type": "stream",
     "text": [
      "16.0\n"
     ]
    },
    {
     "data": {
      "image/png": "[encoded data removed]",
      "text/plain": [
       "<matplotlib.figure.Figure at 0xb5dae48>"
      ]
     },
     "metadata": {},
     "output_type": "display_data"
    },
    {
     "name": "stdout",
     "output_type": "stream",
     "text": [
      "16.0\n"
     ]
    },
    {
     "data": {
      "image/png": "[encoded data removed]",
      "text/plain": [
       "<matplotlib.figure.Figure at 0xaf05e48>"
      ]
     },
     "metadata": {},
     "output_type": "display_data"
    }
   ],
   "source": [
    "## Building age graphs\n",
    "\n",
    "## Graph 1\n",
    "plt_data = np.copy(df_all.age [df_all.age<100])\n",
    "\n",
    "n_bins = np.arange(-5,100,5)\n",
    "\n",
    "print (min(plt_data[plt_data>15]))\n",
    "n, bins, patches = plt.hist(plt_data,bins = n_bins, normed=1, facecolor='green', alpha=0.75)\n",
    "plt.title (\"Age distribution\")\n",
    "plt.show ()\n",
    "\n",
    "\n",
    "## Graph 2\n",
    "plt_data = np.copy(df_all.age [df_all.age<100])\n",
    "\n",
    "n_bins = np.arange(0,100,5)\n",
    "\n",
    "print (min(plt_data[plt_data>15]))\n",
    "n, bins, patches = plt.hist(plt_data,bins = n_bins, normed=1, facecolor='green', alpha=0.75)\n",
    "plt.title (\"Age distribution\")\n",
    "plt.show ()"
   ]
  },
  {
   "cell_type": "code",
   "execution_count": 4,
   "metadata": {
    "collapsed": false
   },
   "outputs": [
    {
     "name": "stdout",
     "output_type": "stream",
     "text": [
      "new columns created\n"
     ]
    }
   ],
   "source": [
    "#####Feature engineering#######\n",
    "\n",
    "#date_account_created\n",
    "dac = np.vstack(df_all.date_account_created.astype(str).apply(lambda x: list(map(int, x.split('-')))).values)\n",
    "df_all['dac_year'] = dac[:,0]\n",
    "df_all['dac_month'] = dac[:,1]\n",
    "df_all['dac_day'] = dac[:,2]\n",
    "\n",
    "\n",
    "#timestamp_first_active\n",
    "tfa = np.vstack(df_all.timestamp_first_active.astype(str).apply(lambda x: list(map(int, [x[:4],x[4:6],x[6:8],x[8:10],x[10:12],x[12:14]]))).values)\n",
    "df_all['tfa_year'] = tfa[:,0]\n",
    "df_all['tfa_month'] = tfa[:,1]\n",
    "df_all['tfa_day'] = tfa[:,2]\n",
    "\n",
    "#Age\n",
    "av = np.copy(df_all.age.values)\n",
    "df_all['age'] = np.where(np.logical_or(av<14, av>100), -1, av)\n",
    "\n",
    "#One-hot-encoding features\n",
    "ohe_feats = ['gender', 'signup_method', 'signup_flow', 'language', 'affiliate_channel', 'affiliate_provider', 'first_affiliate_tracked', 'signup_app', 'first_device_type', 'first_browser']\n",
    "for f in ohe_feats:\n",
    "    df_all_dummy = pd.get_dummies(df_all[f], prefix=f)\n",
    "    df_all = df_all.drop([f], axis=1)\n",
    "    df_all = pd.concat((df_all, df_all_dummy), axis=1)\n",
    " \n",
    "\n",
    "#Removing columns that won't be included into model\n",
    "\n",
    "df_all = df_all.drop(['id', 'date_first_booking','country_destination','date_account_created',\n",
    "                     'timestamp_first_active',], axis=1)\n",
    "\n",
    "#print (\"\\nVar names:\\n\",df_all.columns.values)\n",
    "print (\"new columns created\")\n"
   ]
  },
  {
   "cell_type": "code",
   "execution_count": 5,
   "metadata": {
    "collapsed": false
   },
   "outputs": [],
   "source": [
    "## loading 'summary statistics of users' age group, gender, country of destination'\n",
    "\n",
    "age_gender_bkts = pd.read_csv('../kaggle_data/age_gender_bkts.csv')\n",
    "\n",
    "## removing irrelevant ages\n",
    "age_filter = np.any([age_gender_bkts.age_bucket == '100+', age_gender_bkts.age_bucket == '0-4',\n",
    "             age_gender_bkts.age_bucket == '5-9', age_gender_bkts.age_bucket == '10-14'], axis=0)\n",
    "\n",
    "\n"
   ]
  },
  {
   "cell_type": "code",
   "execution_count": 6,
   "metadata": {
    "collapsed": false
   },
   "outputs": [
    {
     "data": {
      "image/png": "[encoded data removed]",
      "text/plain": [
       "<matplotlib.figure.Figure at 0xafef860>"
      ]
     },
     "metadata": {},
     "output_type": "display_data"
    }
   ],
   "source": [
    "tt_data = age_gender_bkts[['age_bucket','population_in_thousands']].groupby(['age_bucket']).sum()\n",
    "\n",
    "ind = np.arange(tt_data.shape[0])\n",
    "\n",
    "fig = plt.gcf()\n",
    "fig.set_size_inches(18.5, 5.5)\n",
    "plt.bar(ind, tt_data.values)\n",
    "plt.xticks(ind+0.5, tt_data.index)\n",
    "plt.show()\n",
    "\n",
    "\n"
   ]
  },
  {
   "cell_type": "code",
   "execution_count": 7,
   "metadata": {
    "collapsed": false,
    "scrolled": true
   },
   "outputs": [
    {
     "data": {
      "image/png": "[encoded data removed]",
      "text/plain": [
       "<matplotlib.figure.Figure at 0xb3419b0>"
      ]
     },
     "metadata": {},
     "output_type": "display_data"
    }
   ],
   "source": [
    "## sum of all visits by country_destination and percentage\n",
    "\n",
    "dfsum_by_country = age_gender_bkts.groupby(['country_destination','year'], as_index=False).sum()\n",
    "dfsum_by_country = dfsum_by_country[[\"country_destination\",\"population_in_thousands\"]]\n",
    "dfsum_by_country = dfsum_by_country.rename(columns = {\"population_in_thousands\": \"sum_by_dest\"})\n",
    "dfsum_by_country['prob_dest'] = dfsum_by_country.sum_by_dest/ sum( dfsum_by_country.sum_by_dest)\n",
    "#print (dfsum_by_country[['country_destination','prob_dest']])\n",
    "\n",
    "ind = np.arange(10)\n",
    "width = 0.9\n",
    "plt.bar(ind, dfsum_by_country['prob_dest'],width)\n",
    "plt.xticks(ind + 0.5,dfsum_by_country['country_destination'])\n",
    "plt.title (\"Total preference by country destination\")\n",
    "plt.show()"
   ]
  },
  {
   "cell_type": "code",
   "execution_count": 33,
   "metadata": {
    "collapsed": false,
    "scrolled": false
   },
   "outputs": [
    {
     "data": {
      "image/png": "[encoded data removed]",
      "text/plain": [
       "<matplotlib.figure.Figure at 0x1884acf8>"
      ]
     },
     "metadata": {},
     "output_type": "display_data"
    }
   ],
   "source": [
    "## sum of visits by age gender\n",
    "\n",
    "dfsum_by_age_gender = age_gender_bkts.groupby(['age_bucket','gender','year'], as_index=False).sum()\n",
    "dfsum_by_age_gender = dfsum_by_age_gender[[\"age_bucket\",\"gender\",\"population_in_thousands\"]]\n",
    "dfsum_by_age_gender = dfsum_by_age_gender.rename(columns = {\"population_in_thousands\": \"sum_by_age_gender\"})\n",
    "dfsum_by_age_gender = pd.merge (age_gender_bkts,dfsum_by_age_gender, on = [\"age_bucket\",\"gender\"], how = \"left\")\n",
    "dfsum_by_age_gender['prob_age_gender'] = dfsum_by_age_gender['population_in_thousands']/dfsum_by_age_gender['sum_by_age_gender']\n",
    "##print (dfsum_by_age_gender)\n",
    "\n",
    "\n",
    "gr_filter = np.all([dfsum_by_age_gender['gender']=='male', dfsum_by_age_gender['age_bucket']=='30-34'], axis=0)\n",
    "dd = dfsum_by_age_gender[gr_filter]\n",
    "##print (dd)\n",
    "\n",
    "ind = np.arange(dd.shape[0])\n",
    "width = 0.9\n",
    "plt.bar(ind, dd['prob_age_gender'],width)\n",
    "plt.xticks(ind + 0.5,dfsum_by_country['country_destination'])\n",
    "plt.title (\"Total preference by country destination\")\n",
    "plt.show()\n",
    "\n"
   ]
  },
  {
   "cell_type": "code",
   "execution_count": 31,
   "metadata": {
    "collapsed": false,
    "scrolled": true
   },
   "outputs": [
    {
     "data": {
      "text/html": [
       "<div>\n",
       "<table border=\"1\" class=\"dataframe\">\n",
       "  <thead>\n",
       "    <tr style=\"text-align: right;\">\n",
       "      <th></th>\n",
       "      <th>age</th>\n",
       "      <th>gender_MALE</th>\n",
       "      <th>age_group</th>\n",
       "      <th>gender_group</th>\n",
       "    </tr>\n",
       "  </thead>\n",
       "  <tbody>\n",
       "    <tr>\n",
       "      <th>0</th>\n",
       "      <td>-1</td>\n",
       "      <td>-1</td>\n",
       "      <td>-1</td>\n",
       "      <td>-1</td>\n",
       "    </tr>\n",
       "    <tr>\n",
       "      <th>1</th>\n",
       "      <td>38</td>\n",
       "      <td>1</td>\n",
       "      <td>35-39</td>\n",
       "      <td>female</td>\n",
       "    </tr>\n",
       "    <tr>\n",
       "      <th>2</th>\n",
       "      <td>56</td>\n",
       "      <td>0</td>\n",
       "      <td>55-59</td>\n",
       "      <td>female</td>\n",
       "    </tr>\n",
       "    <tr>\n",
       "      <th>3</th>\n",
       "      <td>42</td>\n",
       "      <td>0</td>\n",
       "      <td>40-44</td>\n",
       "      <td>female</td>\n",
       "    </tr>\n",
       "    <tr>\n",
       "      <th>4</th>\n",
       "      <td>41</td>\n",
       "      <td>-1</td>\n",
       "      <td>40-44</td>\n",
       "      <td>-1</td>\n",
       "    </tr>\n",
       "  </tbody>\n",
       "</table>\n",
       "</div>"
      ],
      "text/plain": [
       "   age  gender_MALE age_group gender_group\n",
       "0   -1           -1        -1           -1\n",
       "1   38            1     35-39       female\n",
       "2   56            0     55-59       female\n",
       "3   42            0     40-44       female\n",
       "4   41           -1     40-44           -1"
      ]
     },
     "execution_count": 31,
     "metadata": {},
     "output_type": "execute_result"
    }
   ],
   "source": [
    "## linking country destination and other available data\n",
    "\n",
    "def get_age_group(x):\n",
    "    age_group = round(x // 5,0)\n",
    "    age_group =  \"%.0f\" % (age_group * 5)+ \"-\"+\"%.0f\" % (age_group*5+4)\n",
    "    \n",
    "    if x == -1:\n",
    "        age_group = -1\n",
    "    return age_group\n",
    "\n",
    "def get_gender(x):\n",
    "    gender = \"female\"\n",
    "    if x == 1:\n",
    "        gender == \"male\"\n",
    "    if x == -1:          ## gender unknown\n",
    "        gender = -1\n",
    "    return gender\n",
    "\n",
    "df_link = df_all[['age','gender_MALE']].copy()\n",
    "\n",
    "df_link.loc[:,'gender_MALE'] = df_link.loc[:,'gender_MALE'] - df_all.loc[:,'gender_-unknown-']\n",
    "\n",
    "\n",
    "df_link.loc[:,'age_group'] = list(map (lambda x: get_age_group(x), df_link.age))\n",
    "df_link.loc[:,'gender_group'] = list(map (lambda x: get_gender(x), df_link.gender_MALE))\n",
    "\n",
    "## my_filt = np.all([df_link.gender_group!=-1, df_link.age_group!=-1],axis=0)\n",
    "\n",
    "## print (df_link.shape[0])\n",
    "## print (sum(my_filt))\n",
    "df_link.head()\n"
   ]
  },
  {
   "cell_type": "code",
   "execution_count": 73,
   "metadata": {
    "collapsed": false
   },
   "outputs": [
    {
     "data": {
      "text/html": [
       "<div>\n",
       "<table border=\"1\" class=\"dataframe\">\n",
       "  <thead>\n",
       "    <tr style=\"text-align: right;\">\n",
       "      <th></th>\n",
       "      <th>country_destination</th>\n",
       "      <th>sum_by_dest</th>\n",
       "      <th>prob_dest</th>\n",
       "    </tr>\n",
       "  </thead>\n",
       "  <tbody>\n",
       "    <tr>\n",
       "      <th>0</th>\n",
       "      <td>AU</td>\n",
       "      <td>23923</td>\n",
       "      <td>0.032677</td>\n",
       "    </tr>\n",
       "    <tr>\n",
       "      <th>1</th>\n",
       "      <td>CA</td>\n",
       "      <td>35871</td>\n",
       "      <td>0.048996</td>\n",
       "    </tr>\n",
       "    <tr>\n",
       "      <th>2</th>\n",
       "      <td>DE</td>\n",
       "      <td>82562</td>\n",
       "      <td>0.112772</td>\n",
       "    </tr>\n",
       "    <tr>\n",
       "      <th>3</th>\n",
       "      <td>ES</td>\n",
       "      <td>47203</td>\n",
       "      <td>0.064475</td>\n",
       "    </tr>\n",
       "    <tr>\n",
       "      <th>4</th>\n",
       "      <td>FR</td>\n",
       "      <td>64983</td>\n",
       "      <td>0.088761</td>\n",
       "    </tr>\n",
       "    <tr>\n",
       "      <th>5</th>\n",
       "      <td>GB</td>\n",
       "      <td>63840</td>\n",
       "      <td>0.087199</td>\n",
       "    </tr>\n",
       "    <tr>\n",
       "      <th>6</th>\n",
       "      <td>IT</td>\n",
       "      <td>61145</td>\n",
       "      <td>0.083518</td>\n",
       "    </tr>\n",
       "    <tr>\n",
       "      <th>7</th>\n",
       "      <td>NL</td>\n",
       "      <td>16848</td>\n",
       "      <td>0.023013</td>\n",
       "    </tr>\n",
       "    <tr>\n",
       "      <th>8</th>\n",
       "      <td>PT</td>\n",
       "      <td>10609</td>\n",
       "      <td>0.014491</td>\n",
       "    </tr>\n",
       "    <tr>\n",
       "      <th>9</th>\n",
       "      <td>US</td>\n",
       "      <td>325132</td>\n",
       "      <td>0.444099</td>\n",
       "    </tr>\n",
       "  </tbody>\n",
       "</table>\n",
       "</div>"
      ],
      "text/plain": [
       "  country_destination  sum_by_dest  prob_dest\n",
       "0                  AU        23923   0.032677\n",
       "1                  CA        35871   0.048996\n",
       "2                  DE        82562   0.112772\n",
       "3                  ES        47203   0.064475\n",
       "4                  FR        64983   0.088761\n",
       "5                  GB        63840   0.087199\n",
       "6                  IT        61145   0.083518\n",
       "7                  NL        16848   0.023013\n",
       "8                  PT        10609   0.014491\n",
       "9                  US       325132   0.444099"
      ]
     },
     "execution_count": 73,
     "metadata": {},
     "output_type": "execute_result"
    }
   ],
   "source": []
  },
  {
   "cell_type": "code",
   "execution_count": 78,
   "metadata": {
    "collapsed": false
   },
   "outputs": [
    {
     "name": "stdout",
     "output_type": "stream",
     "text": [
      "age                 38\n",
      "gender_MALE          1\n",
      "age_group        35-39\n",
      "gender_group    female\n",
      "Name: 1, dtype: object\n",
      "[ 0.03404599  0.05066519  0.10209546  0.08356357  0.07888809  0.08347856\n",
      "  0.08883411  0.02082713  0.0175968   0.4400051 ]\n",
      "age                 38\n",
      "gender_MALE          1\n",
      "age_group        35-39\n",
      "gender_group    female\n",
      "Name: 1, dtype: object\n",
      "[ 0.03404599  0.05066519  0.10209546  0.08356357  0.07888809  0.08347856\n",
      "  0.08883411  0.02082713  0.0175968   0.4400051 ]\n",
      "age                 56\n",
      "gender_MALE          0\n",
      "age_group        55-59\n",
      "gender_group    female\n",
      "Name: 2, dtype: object\n",
      "[ 0.02960026  0.05227109  0.1200032   0.0613234   0.08511576  0.07974846\n",
      "  0.08287271  0.02323159  0.01465994  0.4511736 ]\n",
      "age                 42\n",
      "gender_MALE          0\n",
      "age_group        40-44\n",
      "gender_group    female\n",
      "Name: 3, dtype: object\n",
      "[ 0.03408167  0.04754352  0.10407516  0.07824955  0.09073532  0.08731902\n",
      "  0.09805596  0.02371075  0.01700016  0.41922889]\n",
      "age                41\n",
      "gender_MALE        -1\n",
      "age_group       40-44\n",
      "gender_group       -1\n",
      "Name: 4, dtype: object\n",
      "[ 0.03267652  0.04899633  0.11277175  0.06447476  0.08876052  0.0871993\n",
      "  0.08351819  0.02301275  0.01449087  0.44409902]\n",
      "age             -1\n",
      "gender_MALE     -1\n",
      "age_group       -1\n",
      "gender_group    -1\n",
      "Name: 5, dtype: object\n",
      "[ 0.03267652  0.04899633  0.11277175  0.06447476  0.08876052  0.0871993\n",
      "  0.08351819  0.02301275  0.01449087  0.44409902]\n",
      "age                 46\n",
      "gender_MALE          0\n",
      "age_group        45-49\n",
      "gender_group    female\n",
      "Name: 6, dtype: object\n",
      "[ 0.03054817  0.04688162  0.12931931  0.07134327  0.08551947  0.09048885\n",
      "  0.09553527  0.0245387   0.0152163   0.41060904]\n",
      "age                 47\n",
      "gender_MALE          0\n",
      "age_group        45-49\n",
      "gender_group    female\n",
      "Name: 7, dtype: object\n",
      "[ 0.03054817  0.04688162  0.12931931  0.07134327  0.08551947  0.09048885\n",
      "  0.09553527  0.0245387   0.0152163   0.41060904]\n",
      "age                 50\n",
      "gender_MALE          0\n",
      "age_group        50-54\n",
      "gender_group    female\n",
      "Name: 8, dtype: object\n",
      "[ 0.02978279  0.05191461  0.13111144  0.06467866  0.08337688  0.08606404\n",
      "  0.0885646   0.02373666  0.01481675  0.42595357]\n"
     ]
    },
    {
     "ename": "ValueError",
     "evalue": "Shape of passed values is (8, 10), indices imply (8, 4)",
     "output_type": "error",
     "traceback": [
      "\u001b[1;31m---------------------------------------------------------------------------\u001b[0m",
      "\u001b[1;31mValueError\u001b[0m                                Traceback (most recent call last)",
      "\u001b[1;32mC:\\Users\\Ivan.Petrov\\Programs\\WinPython-64bit-3.5.1.1\\python-3.5.1.amd64\\lib\\site-packages\\pandas\\core\\internals.py\u001b[0m in \u001b[0;36mcreate_block_manager_from_arrays\u001b[1;34m(arrays, names, axes)\u001b[0m\n\u001b[0;32m   3911\u001b[0m         \u001b[0mblocks\u001b[0m \u001b[1;33m=\u001b[0m \u001b[0mform_blocks\u001b[0m\u001b[1;33m(\u001b[0m\u001b[0marrays\u001b[0m\u001b[1;33m,\u001b[0m \u001b[0mnames\u001b[0m\u001b[1;33m,\u001b[0m \u001b[0maxes\u001b[0m\u001b[1;33m)\u001b[0m\u001b[1;33m\u001b[0m\u001b[0m\n\u001b[1;32m-> 3912\u001b[1;33m         \u001b[0mmgr\u001b[0m \u001b[1;33m=\u001b[0m \u001b[0mBlockManager\u001b[0m\u001b[1;33m(\u001b[0m\u001b[0mblocks\u001b[0m\u001b[1;33m,\u001b[0m \u001b[0maxes\u001b[0m\u001b[1;33m)\u001b[0m\u001b[1;33m\u001b[0m\u001b[0m\n\u001b[0m\u001b[0;32m   3913\u001b[0m         \u001b[0mmgr\u001b[0m\u001b[1;33m.\u001b[0m\u001b[0m_consolidate_inplace\u001b[0m\u001b[1;33m(\u001b[0m\u001b[1;33m)\u001b[0m\u001b[1;33m\u001b[0m\u001b[0m\n",
      "\u001b[1;32mC:\\Users\\Ivan.Petrov\\Programs\\WinPython-64bit-3.5.1.1\\python-3.5.1.amd64\\lib\\site-packages\\pandas\\core\\internals.py\u001b[0m in \u001b[0;36m__init__\u001b[1;34m(self, blocks, axes, do_integrity_check, fastpath)\u001b[0m\n\u001b[0;32m   2530\u001b[0m         \u001b[1;32mif\u001b[0m \u001b[0mdo_integrity_check\u001b[0m\u001b[1;33m:\u001b[0m\u001b[1;33m\u001b[0m\u001b[0m\n\u001b[1;32m-> 2531\u001b[1;33m             \u001b[0mself\u001b[0m\u001b[1;33m.\u001b[0m\u001b[0m_verify_integrity\u001b[0m\u001b[1;33m(\u001b[0m\u001b[1;33m)\u001b[0m\u001b[1;33m\u001b[0m\u001b[0m\n\u001b[0m\u001b[0;32m   2532\u001b[0m \u001b[1;33m\u001b[0m\u001b[0m\n",
      "\u001b[1;32mC:\\Users\\Ivan.Petrov\\Programs\\WinPython-64bit-3.5.1.1\\python-3.5.1.amd64\\lib\\site-packages\\pandas\\core\\internals.py\u001b[0m in \u001b[0;36m_verify_integrity\u001b[1;34m(self)\u001b[0m\n\u001b[0;32m   2741\u001b[0m             \u001b[1;32mif\u001b[0m \u001b[0mblock\u001b[0m\u001b[1;33m.\u001b[0m\u001b[0m_verify_integrity\u001b[0m \u001b[1;32mand\u001b[0m \u001b[0mblock\u001b[0m\u001b[1;33m.\u001b[0m\u001b[0mshape\u001b[0m\u001b[1;33m[\u001b[0m\u001b[1;36m1\u001b[0m\u001b[1;33m:\u001b[0m\u001b[1;33m]\u001b[0m \u001b[1;33m!=\u001b[0m \u001b[0mmgr_shape\u001b[0m\u001b[1;33m[\u001b[0m\u001b[1;36m1\u001b[0m\u001b[1;33m:\u001b[0m\u001b[1;33m]\u001b[0m\u001b[1;33m:\u001b[0m\u001b[1;33m\u001b[0m\u001b[0m\n\u001b[1;32m-> 2742\u001b[1;33m                 \u001b[0mconstruction_error\u001b[0m\u001b[1;33m(\u001b[0m\u001b[0mtot_items\u001b[0m\u001b[1;33m,\u001b[0m \u001b[0mblock\u001b[0m\u001b[1;33m.\u001b[0m\u001b[0mshape\u001b[0m\u001b[1;33m[\u001b[0m\u001b[1;36m1\u001b[0m\u001b[1;33m:\u001b[0m\u001b[1;33m]\u001b[0m\u001b[1;33m,\u001b[0m \u001b[0mself\u001b[0m\u001b[1;33m.\u001b[0m\u001b[0maxes\u001b[0m\u001b[1;33m)\u001b[0m\u001b[1;33m\u001b[0m\u001b[0m\n\u001b[0m\u001b[0;32m   2743\u001b[0m         \u001b[1;32mif\u001b[0m \u001b[0mlen\u001b[0m\u001b[1;33m(\u001b[0m\u001b[0mself\u001b[0m\u001b[1;33m.\u001b[0m\u001b[0mitems\u001b[0m\u001b[1;33m)\u001b[0m \u001b[1;33m!=\u001b[0m \u001b[0mtot_items\u001b[0m\u001b[1;33m:\u001b[0m\u001b[1;33m\u001b[0m\u001b[0m\n",
      "\u001b[1;32mC:\\Users\\Ivan.Petrov\\Programs\\WinPython-64bit-3.5.1.1\\python-3.5.1.amd64\\lib\\site-packages\\pandas\\core\\internals.py\u001b[0m in \u001b[0;36mconstruction_error\u001b[1;34m(tot_items, block_shape, axes, e)\u001b[0m\n\u001b[0;32m   3881\u001b[0m     raise ValueError(\"Shape of passed values is {0}, indices imply {1}\".format(\n\u001b[1;32m-> 3882\u001b[1;33m         passed,implied))\n\u001b[0m\u001b[0;32m   3883\u001b[0m \u001b[1;33m\u001b[0m\u001b[0m\n",
      "\u001b[1;31mValueError\u001b[0m: Shape of passed values is (8, 10), indices imply (8, 4)",
      "\nDuring handling of the above exception, another exception occurred:\n",
      "\u001b[1;31mValueError\u001b[0m                                Traceback (most recent call last)",
      "\u001b[1;32m<ipython-input-78-9804555addd0>\u001b[0m in \u001b[0;36m<module>\u001b[1;34m()\u001b[0m\n\u001b[0;32m     14\u001b[0m \u001b[1;33m\u001b[0m\u001b[0m\n\u001b[0;32m     15\u001b[0m \u001b[1;31m#get_all_countries (df_link.loc[1,:])\u001b[0m\u001b[1;33m\u001b[0m\u001b[1;33m\u001b[0m\u001b[0m\n\u001b[1;32m---> 16\u001b[1;33m \u001b[0mdf_link\u001b[0m\u001b[1;33m.\u001b[0m\u001b[0mloc\u001b[0m\u001b[1;33m[\u001b[0m\u001b[1;36m1\u001b[0m\u001b[1;33m:\u001b[0m\u001b[1;36m8\u001b[0m\u001b[1;33m,\u001b[0m\u001b[1;33m:\u001b[0m\u001b[1;33m]\u001b[0m\u001b[1;33m.\u001b[0m\u001b[0mapply\u001b[0m\u001b[1;33m(\u001b[0m\u001b[0mget_all_countries\u001b[0m\u001b[1;33m,\u001b[0m \u001b[0maxis\u001b[0m\u001b[1;33m=\u001b[0m\u001b[1;36m1\u001b[0m\u001b[1;33m)\u001b[0m \u001b[1;31m# equiv to df.sum(0)\u001b[0m\u001b[1;33m\u001b[0m\u001b[0m\n\u001b[0m",
      "\u001b[1;32mC:\\Users\\Ivan.Petrov\\Programs\\WinPython-64bit-3.5.1.1\\python-3.5.1.amd64\\lib\\site-packages\\pandas\\core\\frame.py\u001b[0m in \u001b[0;36mapply\u001b[1;34m(self, func, axis, broadcast, raw, reduce, args, **kwds)\u001b[0m\n\u001b[0;32m   3970\u001b[0m                     \u001b[1;32mif\u001b[0m \u001b[0mreduce\u001b[0m \u001b[1;32mis\u001b[0m \u001b[1;32mNone\u001b[0m\u001b[1;33m:\u001b[0m\u001b[1;33m\u001b[0m\u001b[0m\n\u001b[0;32m   3971\u001b[0m                         \u001b[0mreduce\u001b[0m \u001b[1;33m=\u001b[0m \u001b[1;32mTrue\u001b[0m\u001b[1;33m\u001b[0m\u001b[0m\n\u001b[1;32m-> 3972\u001b[1;33m                     \u001b[1;32mreturn\u001b[0m \u001b[0mself\u001b[0m\u001b[1;33m.\u001b[0m\u001b[0m_apply_standard\u001b[0m\u001b[1;33m(\u001b[0m\u001b[0mf\u001b[0m\u001b[1;33m,\u001b[0m \u001b[0maxis\u001b[0m\u001b[1;33m,\u001b[0m \u001b[0mreduce\u001b[0m\u001b[1;33m=\u001b[0m\u001b[0mreduce\u001b[0m\u001b[1;33m)\u001b[0m\u001b[1;33m\u001b[0m\u001b[0m\n\u001b[0m\u001b[0;32m   3973\u001b[0m             \u001b[1;32melse\u001b[0m\u001b[1;33m:\u001b[0m\u001b[1;33m\u001b[0m\u001b[0m\n\u001b[0;32m   3974\u001b[0m                 \u001b[1;32mreturn\u001b[0m \u001b[0mself\u001b[0m\u001b[1;33m.\u001b[0m\u001b[0m_apply_broadcast\u001b[0m\u001b[1;33m(\u001b[0m\u001b[0mf\u001b[0m\u001b[1;33m,\u001b[0m \u001b[0maxis\u001b[0m\u001b[1;33m)\u001b[0m\u001b[1;33m\u001b[0m\u001b[0m\n",
      "\u001b[1;32mC:\\Users\\Ivan.Petrov\\Programs\\WinPython-64bit-3.5.1.1\\python-3.5.1.amd64\\lib\\site-packages\\pandas\\core\\frame.py\u001b[0m in \u001b[0;36m_apply_standard\u001b[1;34m(self, func, axis, ignore_failures, reduce)\u001b[0m\n\u001b[0;32m   4079\u001b[0m                 \u001b[0mindex\u001b[0m \u001b[1;33m=\u001b[0m \u001b[1;32mNone\u001b[0m\u001b[1;33m\u001b[0m\u001b[0m\n\u001b[0;32m   4080\u001b[0m \u001b[1;33m\u001b[0m\u001b[0m\n\u001b[1;32m-> 4081\u001b[1;33m             \u001b[0mresult\u001b[0m \u001b[1;33m=\u001b[0m \u001b[0mself\u001b[0m\u001b[1;33m.\u001b[0m\u001b[0m_constructor\u001b[0m\u001b[1;33m(\u001b[0m\u001b[0mdata\u001b[0m\u001b[1;33m=\u001b[0m\u001b[0mresults\u001b[0m\u001b[1;33m,\u001b[0m \u001b[0mindex\u001b[0m\u001b[1;33m=\u001b[0m\u001b[0mindex\u001b[0m\u001b[1;33m)\u001b[0m\u001b[1;33m\u001b[0m\u001b[0m\n\u001b[0m\u001b[0;32m   4082\u001b[0m             \u001b[0mresult\u001b[0m\u001b[1;33m.\u001b[0m\u001b[0mcolumns\u001b[0m \u001b[1;33m=\u001b[0m \u001b[0mres_index\u001b[0m\u001b[1;33m\u001b[0m\u001b[0m\n\u001b[0;32m   4083\u001b[0m \u001b[1;33m\u001b[0m\u001b[0m\n",
      "\u001b[1;32mC:\\Users\\Ivan.Petrov\\Programs\\WinPython-64bit-3.5.1.1\\python-3.5.1.amd64\\lib\\site-packages\\pandas\\core\\frame.py\u001b[0m in \u001b[0;36m__init__\u001b[1;34m(self, data, index, columns, dtype, copy)\u001b[0m\n\u001b[0;32m    224\u001b[0m                                  dtype=dtype, copy=copy)\n\u001b[0;32m    225\u001b[0m         \u001b[1;32melif\u001b[0m \u001b[0misinstance\u001b[0m\u001b[1;33m(\u001b[0m\u001b[0mdata\u001b[0m\u001b[1;33m,\u001b[0m \u001b[0mdict\u001b[0m\u001b[1;33m)\u001b[0m\u001b[1;33m:\u001b[0m\u001b[1;33m\u001b[0m\u001b[0m\n\u001b[1;32m--> 226\u001b[1;33m             \u001b[0mmgr\u001b[0m \u001b[1;33m=\u001b[0m \u001b[0mself\u001b[0m\u001b[1;33m.\u001b[0m\u001b[0m_init_dict\u001b[0m\u001b[1;33m(\u001b[0m\u001b[0mdata\u001b[0m\u001b[1;33m,\u001b[0m \u001b[0mindex\u001b[0m\u001b[1;33m,\u001b[0m \u001b[0mcolumns\u001b[0m\u001b[1;33m,\u001b[0m \u001b[0mdtype\u001b[0m\u001b[1;33m=\u001b[0m\u001b[0mdtype\u001b[0m\u001b[1;33m)\u001b[0m\u001b[1;33m\u001b[0m\u001b[0m\n\u001b[0m\u001b[0;32m    227\u001b[0m         \u001b[1;32melif\u001b[0m \u001b[0misinstance\u001b[0m\u001b[1;33m(\u001b[0m\u001b[0mdata\u001b[0m\u001b[1;33m,\u001b[0m \u001b[0mma\u001b[0m\u001b[1;33m.\u001b[0m\u001b[0mMaskedArray\u001b[0m\u001b[1;33m)\u001b[0m\u001b[1;33m:\u001b[0m\u001b[1;33m\u001b[0m\u001b[0m\n\u001b[0;32m    228\u001b[0m             \u001b[1;32mimport\u001b[0m \u001b[0mnumpy\u001b[0m\u001b[1;33m.\u001b[0m\u001b[0mma\u001b[0m\u001b[1;33m.\u001b[0m\u001b[0mmrecords\u001b[0m \u001b[1;32mas\u001b[0m \u001b[0mmrecords\u001b[0m\u001b[1;33m\u001b[0m\u001b[0m\n",
      "\u001b[1;32mC:\\Users\\Ivan.Petrov\\Programs\\WinPython-64bit-3.5.1.1\\python-3.5.1.amd64\\lib\\site-packages\\pandas\\core\\frame.py\u001b[0m in \u001b[0;36m_init_dict\u001b[1;34m(self, data, index, columns, dtype)\u001b[0m\n\u001b[0;32m    361\u001b[0m \u001b[1;33m\u001b[0m\u001b[0m\n\u001b[0;32m    362\u001b[0m         return _arrays_to_mgr(arrays, data_names, index, columns,\n\u001b[1;32m--> 363\u001b[1;33m                               dtype=dtype)\n\u001b[0m\u001b[0;32m    364\u001b[0m \u001b[1;33m\u001b[0m\u001b[0m\n\u001b[0;32m    365\u001b[0m     def _init_ndarray(self, values, index, columns, dtype=None,\n",
      "\u001b[1;32mC:\\Users\\Ivan.Petrov\\Programs\\WinPython-64bit-3.5.1.1\\python-3.5.1.amd64\\lib\\site-packages\\pandas\\core\\frame.py\u001b[0m in \u001b[0;36m_arrays_to_mgr\u001b[1;34m(arrays, arr_names, index, columns, dtype)\u001b[0m\n\u001b[0;32m   5166\u001b[0m     \u001b[0maxes\u001b[0m \u001b[1;33m=\u001b[0m \u001b[1;33m[\u001b[0m\u001b[0m_ensure_index\u001b[0m\u001b[1;33m(\u001b[0m\u001b[0mcolumns\u001b[0m\u001b[1;33m)\u001b[0m\u001b[1;33m,\u001b[0m \u001b[0m_ensure_index\u001b[0m\u001b[1;33m(\u001b[0m\u001b[0mindex\u001b[0m\u001b[1;33m)\u001b[0m\u001b[1;33m]\u001b[0m\u001b[1;33m\u001b[0m\u001b[0m\n\u001b[0;32m   5167\u001b[0m \u001b[1;33m\u001b[0m\u001b[0m\n\u001b[1;32m-> 5168\u001b[1;33m     \u001b[1;32mreturn\u001b[0m \u001b[0mcreate_block_manager_from_arrays\u001b[0m\u001b[1;33m(\u001b[0m\u001b[0marrays\u001b[0m\u001b[1;33m,\u001b[0m \u001b[0marr_names\u001b[0m\u001b[1;33m,\u001b[0m \u001b[0maxes\u001b[0m\u001b[1;33m)\u001b[0m\u001b[1;33m\u001b[0m\u001b[0m\n\u001b[0m\u001b[0;32m   5169\u001b[0m \u001b[1;33m\u001b[0m\u001b[0m\n\u001b[0;32m   5170\u001b[0m \u001b[1;33m\u001b[0m\u001b[0m\n",
      "\u001b[1;32mC:\\Users\\Ivan.Petrov\\Programs\\WinPython-64bit-3.5.1.1\\python-3.5.1.amd64\\lib\\site-packages\\pandas\\core\\internals.py\u001b[0m in \u001b[0;36mcreate_block_manager_from_arrays\u001b[1;34m(arrays, names, axes)\u001b[0m\n\u001b[0;32m   3914\u001b[0m         \u001b[1;32mreturn\u001b[0m \u001b[0mmgr\u001b[0m\u001b[1;33m\u001b[0m\u001b[0m\n\u001b[0;32m   3915\u001b[0m     \u001b[1;32mexcept\u001b[0m \u001b[1;33m(\u001b[0m\u001b[0mValueError\u001b[0m\u001b[1;33m)\u001b[0m \u001b[1;32mas\u001b[0m \u001b[0me\u001b[0m\u001b[1;33m:\u001b[0m\u001b[1;33m\u001b[0m\u001b[0m\n\u001b[1;32m-> 3916\u001b[1;33m         \u001b[0mconstruction_error\u001b[0m\u001b[1;33m(\u001b[0m\u001b[0mlen\u001b[0m\u001b[1;33m(\u001b[0m\u001b[0marrays\u001b[0m\u001b[1;33m)\u001b[0m\u001b[1;33m,\u001b[0m \u001b[0marrays\u001b[0m\u001b[1;33m[\u001b[0m\u001b[1;36m0\u001b[0m\u001b[1;33m]\u001b[0m\u001b[1;33m.\u001b[0m\u001b[0mshape\u001b[0m\u001b[1;33m,\u001b[0m \u001b[0maxes\u001b[0m\u001b[1;33m,\u001b[0m \u001b[0me\u001b[0m\u001b[1;33m)\u001b[0m\u001b[1;33m\u001b[0m\u001b[0m\n\u001b[0m\u001b[0;32m   3917\u001b[0m \u001b[1;33m\u001b[0m\u001b[0m\n\u001b[0;32m   3918\u001b[0m \u001b[1;33m\u001b[0m\u001b[0m\n",
      "\u001b[1;32mC:\\Users\\Ivan.Petrov\\Programs\\WinPython-64bit-3.5.1.1\\python-3.5.1.amd64\\lib\\site-packages\\pandas\\core\\internals.py\u001b[0m in \u001b[0;36mconstruction_error\u001b[1;34m(tot_items, block_shape, axes, e)\u001b[0m\n\u001b[0;32m   3880\u001b[0m         \u001b[1;32mraise\u001b[0m \u001b[0me\u001b[0m\u001b[1;33m\u001b[0m\u001b[0m\n\u001b[0;32m   3881\u001b[0m     raise ValueError(\"Shape of passed values is {0}, indices imply {1}\".format(\n\u001b[1;32m-> 3882\u001b[1;33m         passed,implied))\n\u001b[0m\u001b[0;32m   3883\u001b[0m \u001b[1;33m\u001b[0m\u001b[0m\n\u001b[0;32m   3884\u001b[0m \u001b[1;33m\u001b[0m\u001b[0m\n",
      "\u001b[1;31mValueError\u001b[0m: Shape of passed values is (8, 10), indices imply (8, 4)"
     ]
    }
   ],
   "source": [
    "def get_all_countries (x):\n",
    "    print (x)\n",
    "    str_dat = x  #df_link.loc[1,:]\n",
    "    dat = dfsum_by_age_gender[np.all([dfsum_by_age_gender.age_bucket==str_dat.age_group, dfsum_by_age_gender.gender==str_dat.gender_group],axis=0)]\n",
    "    dat = dat.sort_values(by = 'country_destination')\n",
    "    res = dat.prob_age_gender.values\n",
    "    if len(res) == 0:\n",
    "        dat = dfsum_by_country.sort_values(by = 'country_destination')\n",
    "        res =dat.prob_dest.values\n",
    "        \n",
    "    print (res)\n",
    "    return (res)\n",
    "    \n",
    "    \n",
    "#get_all_countries (df_link.loc[1,:])\n",
    "df_link.range\n",
    "\n",
    "df_link.loc[1:8,:].apply(get_all_countries, axis=1) # equiv to df.sum(0)"
   ]
  },
  {
   "cell_type": "code",
   "execution_count": null,
   "metadata": {
    "collapsed": false
   },
   "outputs": [],
   "source": []
  },
  {
   "cell_type": "code",
   "execution_count": 191,
   "metadata": {
    "collapsed": false
   },
   "outputs": [
    {
     "name": "stdout",
     "output_type": "stream",
     "text": [
      "['NDF' 'NDF' 'US' ..., 'NDF' 'NDF' 'NDF']\n",
      "[ 7  7 10 ...,  7  7  7]\n"
     ]
    }
   ],
   "source": [
    "# Splitting data back into test and train samples\n",
    "vals = df_all.values\n",
    "X = vals[:count_rows_train]\n",
    "le = LabelEncoder()\n",
    "y = le.fit_transform(labels)   \n",
    "\n",
    "\n",
    "X_test = vals[count_rows_train:]\n",
    "\n",
    "print(labels)\n",
    "print (y)"
   ]
  },
  {
   "cell_type": "code",
   "execution_count": 8,
   "metadata": {
    "collapsed": false,
    "scrolled": true
   },
   "outputs": [
    {
     "name": "stdout",
     "output_type": "stream",
     "text": [
      "(21345, 161)\n"
     ]
    }
   ],
   "source": [
    "# Selecting training data\n",
    "X_train, X_test, y_train, y_test = train_test_split (X,y,train_size=0.1, random_state=222)\n",
    "print (X_train.shape)"
   ]
  },
  {
   "cell_type": "code",
   "execution_count": null,
   "metadata": {
    "collapsed": false
   },
   "outputs": [],
   "source": [
    "\n",
    "#Classifier\n",
    "# 40 minutes - full run\n",
    "# preprocess\n",
    "# 4 minutes\n",
    "import time\n",
    "\n",
    "print (\"fitting the mode\")\n",
    "start_time = time.time()\n",
    "\n",
    "xgb = XGBClassifier(max_depth=6, learning_rate=0.3, n_estimators=25,\n",
    "                    objective='multi:softprob', subsample=0.5, colsample_bytree=0.5, seed=0)                  \n",
    "xgb.fit(X_train, y_train)\n",
    "elapsed_time = round((time.time() - start_time)/60,2)\n",
    "\n",
    "print (elapsed_time)\n",
    "\n"
   ]
  },
  {
   "cell_type": "code",
   "execution_count": null,
   "metadata": {
    "collapsed": true
   },
   "outputs": [],
   "source": []
  }
 ],
 "metadata": {
  "kernelspec": {
   "display_name": "Python 3",
   "language": "python",
   "name": "python3"
  },
  "language_info": {
   "codemirror_mode": {
    "name": "ipython",
    "version": 3
   },
   "file_extension": ".py",
   "mimetype": "text/x-python",
   "name": "python",
   "nbconvert_exporter": "python",
   "pygments_lexer": "ipython3",
   "version": "3.5.1"
  }
 },
 "nbformat": 4,
 "nbformat_minor": 0
}
