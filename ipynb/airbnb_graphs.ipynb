{
 "cells": [
  {
   "cell_type": "code",
   "execution_count": 1,
   "metadata": {
    "collapsed": false
   },
   "outputs": [],
   "source": [
    "#LOADING LIBRARIES\n",
    "%matplotlib inline\n",
    "#%pylab inline\n",
    "\n",
    "import pandas as pd\n",
    "#import pylab as pl\n",
    "import numpy as np\n",
    "import matplotlib.pyplot as plt\n",
    "#import pylab\n",
    "import sklearn\n",
    "import time\n",
    "import gc\n",
    "import re\n",
    "\n",
    "from sklearn import cross_validation, metrics, neighbors\n",
    "from sklearn.preprocessing import scale, LabelBinarizer\n",
    "from sklearn.grid_search import GridSearchCV\n",
    "from scipy.stats import gaussian_kde\n",
    "from sklearn.svm import SVC, NuSVC, LinearSVC, SVR, NuSVR\n",
    "from sklearn.tree import DecisionTreeClassifier\n",
    "from sklearn.base import BaseEstimator, ClassifierMixin\n",
    "from sklearn.ensemble import RandomForestClassifier, RandomForestRegressor, AdaBoostClassifier, ExtraTreesClassifier\n",
    "from sklearn.neighbors import KNeighborsClassifier\n",
    "from sklearn.multiclass import OneVsRestClassifier\n",
    "from sklearn.metrics import f1_score, make_scorer, roc_auc_score\n",
    "from sklearn.cross_validation import train_test_split\n",
    "from sklearn.decomposition import PCA, RandomizedPCA, TruncatedSVD\n",
    "from sklearn.linear_model import LinearRegression, Ridge, RidgeClassifier, LogisticRegression, SGDClassifier\n",
    "from sklearn.datasets import load_svmlight_file\n",
    "from sklearn.naive_bayes import BernoulliNB\n",
    "from sklearn.preprocessing import LabelEncoder\n",
    "#from xgboost.sklearn import XGBClassifier\n",
    "from scipy import sparse\n",
    "from multiprocessing import Pool\n",
    "\n",
    "\n",
    "gc.enable()\n",
    "np.random.seed(455)\n",
    "\n",
    "pd.set_option('display.max_rows', 20)\n",
    "pd.set_option('display.max_columns', 200)\n",
    "\n",
    "\n"
   ]
  },
  {
   "cell_type": "code",
   "execution_count": 2,
   "metadata": {
    "collapsed": false
   },
   "outputs": [
    {
     "name": "stdout",
     "output_type": "stream",
     "text": [
      "Total users in train:  213451\n",
      "Total users in test:  62096\n"
     ]
    }
   ],
   "source": [
    "#LOADING AND JOINING THE DATA\n",
    "\n",
    "import os\n",
    "import glob\n",
    "#print (glob.glob(\"../kaggle_data/*.csv\"))\n",
    "\n",
    "df_train = pd.read_csv('../kaggle_data/train_users_2.csv')\n",
    "df_test = pd.read_csv('../kaggle_data/test_users.csv')\n",
    "labels = df_train['country_destination'].values\n",
    "\n",
    "\n",
    "id_test = df_test['id']\n",
    "count_rows_train = df_train.shape[0]\n",
    "count_rows_test = df_test.shape[0]\n",
    "print (\"Total users in train: \",count_rows_train)\n",
    "print (\"Total users in test: \",count_rows_test)\n",
    "\n",
    "df_test['country_destination'] = -1\n",
    "\n",
    "#Creating a DataFrame with train+test data\n",
    "df_all = pd.concat((df_train, df_test), axis=0, ignore_index=True)\n",
    "#Filling nan\n",
    "df_all = df_all.fillna(-1)\n",
    "\n",
    "del df_test, df_train\n",
    "\n"
   ]
  },
  {
   "cell_type": "code",
   "execution_count": 41,
   "metadata": {
    "collapsed": false
   },
   "outputs": [
    {
     "name": "stdout",
     "output_type": "stream",
     "text": [
      "16.0\n"
     ]
    },
    {
     "data": {
      "image/png": "[encoded data removed]",
      "text/plain": [
       "<matplotlib.figure.Figure at 0xb33cb70>"
      ]
     },
     "metadata": {},
     "output_type": "display_data"
    },
    {
     "name": "stdout",
     "output_type": "stream",
     "text": [
      "16.0\n"
     ]
    },
    {
     "data": {
      "image/png": "[encoded data removed]",
      "text/plain": [
       "<matplotlib.figure.Figure at 0x98b5cf8>"
      ]
     },
     "metadata": {},
     "output_type": "display_data"
    }
   ],
   "source": [
    "## Building age graphs\n",
    "\n",
    "## Graph 1\n",
    "plt_data = np.copy(df_all.age [df_all.age<100])\n",
    "\n",
    "n_bins = np.arange(-5,100,5)\n",
    "\n",
    "print (min(plt_data[plt_data>15]))\n",
    "n, bins, patches = plt.hist(plt_data,bins = n_bins, normed=1, facecolor='green', alpha=0.75)\n",
    "plt.title (\"Age distribution\")\n",
    "plt.show ()\n",
    "\n",
    "\n",
    "## Graph 2\n",
    "plt_data = np.copy(df_all.age [df_all.age<100])\n",
    "\n",
    "n_bins = np.arange(0,100,5)\n",
    "\n",
    "print (min(plt_data[plt_data>15]))\n",
    "n, bins, patches = plt.hist(plt_data,bins = n_bins, normed=1, facecolor='green', alpha=0.75)\n",
    "plt.title (\"Age distribution\")\n",
    "plt.show ()"
   ]
  },
  {
   "cell_type": "code",
   "execution_count": 234,
   "metadata": {
    "collapsed": false
   },
   "outputs": [
    {
     "name": "stdout",
     "output_type": "stream",
     "text": [
      "new columns created\n"
     ]
    }
   ],
   "source": [
    "#####Feature engineering#######\n",
    "\n",
    "#date_account_created\n",
    "dac = np.vstack(df_all.date_account_created.astype(str).apply(lambda x: list(map(int, x.split('-')))).values)\n",
    "df_all['dac_year'] = dac[:,0]\n",
    "df_all['dac_month'] = dac[:,1]\n",
    "df_all['dac_day'] = dac[:,2]\n",
    "\n",
    "\n",
    "#timestamp_first_active\n",
    "tfa = np.vstack(df_all.timestamp_first_active.astype(str).apply(lambda x: list(map(int, [x[:4],x[4:6],x[6:8],x[8:10],x[10:12],x[12:14]]))).values)\n",
    "df_all['tfa_year'] = tfa[:,0]\n",
    "df_all['tfa_month'] = tfa[:,1]\n",
    "df_all['tfa_day'] = tfa[:,2]\n",
    "\n",
    "#Age\n",
    "av = np.copy(df_all.age.values)\n",
    "df_all['age'] = np.where(np.logical_or(av<14, av>100), -1, av)\n",
    "\n",
    "#One-hot-encoding features\n",
    "ohe_feats = ['gender', 'signup_method', 'signup_flow', 'language', 'affiliate_channel', 'affiliate_provider', 'first_affiliate_tracked', 'signup_app', 'first_device_type', 'first_browser']\n",
    "for f in ohe_feats:\n",
    "    df_all_dummy = pd.get_dummies(df_all[f], prefix=f)\n",
    "    df_all = df_all.drop([f], axis=1)\n",
    "    df_all = pd.concat((df_all, df_all_dummy), axis=1)\n",
    " \n",
    "\n",
    "#Removing columns that won't be included into model\n",
    "\n",
    "df_all = df_all.drop(['id', 'date_first_booking','country_destination','date_account_created',\n",
    "                     'timestamp_first_active',], axis=1)\n",
    "\n",
    "#print (\"\\nVar names:\\n\",df_all.columns.values)\n",
    "print (\"new columns created\")\n"
   ]
  },
  {
   "cell_type": "code",
   "execution_count": 235,
   "metadata": {
    "collapsed": false
   },
   "outputs": [],
   "source": [
    "age_gender_bkts = pd.read_csv('../kaggle_data/age_gender_bkts.csv')\n",
    "\n",
    "\n",
    "## percent of population that is going to specific destination\n",
    "age_gender_bkts[\"probs_total\"] = age_gender_bkts[\"population_in_thousands\"] / sum(age_gender_bkts[\"population_in_thousands\"])\n",
    "dfsum_by_country = age_gender_bkts.groupby(['country_destination','year'], as_index=False).sum()\n",
    "dfsum_by_country = dfsum_by_country[[\"country_destination\",\"year\",\"population_in_thousands\"]]\n",
    "dfsum_by_country = dfsum_by_country.rename(columns = {\"population_in_thousands\": \"sum_by_dest\"})\n",
    "\n",
    "\n",
    "dfsum_by_country\n",
    "age_gender_bkts = pd.merge (age_gender_bkts,dfsum_by_country, on = [\"country_destination\"], how = \"left\")\n",
    "\n",
    "## percent of demo that is heading to one of the destinations\n",
    "age_gender_bkts[\"probs_by_country\"] = age_gender_bkts[\"population_in_thousands\"] / age_gender_bkts[\"sum_by_dest\"]\n",
    "\n",
    "age_gender_bkts = age_gender_bkts[[\"age_bucket\", \"country_destination\",\"gender\",\"probs_total\",\"probs_by_country\"]]\n",
    "\n",
    "\n",
    "## Changing age column to interval\n",
    "def age_search(x):\n",
    "    ret = re.findall(\"[0-9]+\",x)\n",
    "    if len(ret)==1:\n",
    "        ret = ret\n",
    "        ret = ret + [\"\"]\n",
    "        \n",
    "    return ret\n",
    "\n",
    "#age_gender_bkts.age_bucket = list(map (lambda x: age_search(x), age_gender_bkts.age_bucket))"
   ]
  },
  {
   "cell_type": "code",
   "execution_count": 236,
   "metadata": {
    "collapsed": false,
    "scrolled": true
   },
   "outputs": [
    {
     "data": {
      "text/plain": [
       "array([ -1.,  38.,  56., ...,  -1.,  -1.,  49.])"
      ]
     },
     "execution_count": 236,
     "metadata": {},
     "output_type": "execute_result"
    }
   ],
   "source": [
    "age_gender_bkts\n",
    "av\n",
    "##tt = pd.pivot_table(age_gender_bkts,index=['age_bucket','gender'], columns=['country_destination'], values = ['probs_total','probs_by_country'])\n",
    "\n",
    "##print(age_gender_bkts.age_bucket[0])\n",
    "\n",
    "\n",
    "#age_gender_bkts.age_bucket.apply(age_search, axis=1)"
   ]
  },
  {
   "cell_type": "code",
   "execution_count": 217,
   "metadata": {
    "collapsed": false,
    "scrolled": true
   },
   "outputs": [
    {
     "data": {
      "text/plain": [
       "array([['0', '4'], ['10', '14'], ['100'], ['15', '19'], ['20', '24'],\n",
       "       ['25', '29'], ['30', '34'], ['35', '39'], ['40', '44'],\n",
       "       ['45', '49'], ['5', '9'], ['50', '54'], ['55', '59'], ['60', '64'],\n",
       "       ['65', '69'], ['70', '74'], ['75', '79'], ['80', '84'],\n",
       "       ['85', '89'], ['90', '94'], ['95', '99']], dtype=object)"
      ]
     },
     "execution_count": 217,
     "metadata": {},
     "output_type": "execute_result"
    }
   ],
   "source": [
    "np.unique(age_gender_bkts.age_bucket)"
   ]
  },
  {
   "cell_type": "code",
   "execution_count": 192,
   "metadata": {
    "collapsed": false
   },
   "outputs": [
    {
     "data": {
      "text/html": [
       "<div>\n",
       "<table border=\"1\" class=\"dataframe\">\n",
       "  <thead>\n",
       "    <tr style=\"text-align: right;\">\n",
       "      <th></th>\n",
       "      <th>age_bucket</th>\n",
       "      <th>country_destination</th>\n",
       "      <th>gender</th>\n",
       "      <th>probs_total</th>\n",
       "      <th>probs_by_country</th>\n",
       "    </tr>\n",
       "  </thead>\n",
       "  <tbody>\n",
       "    <tr>\n",
       "      <th>0</th>\n",
       "      <td>[100]</td>\n",
       "      <td>AU</td>\n",
       "      <td>male</td>\n",
       "      <td>0.000001</td>\n",
       "      <td>0.000042</td>\n",
       "    </tr>\n",
       "    <tr>\n",
       "      <th>1</th>\n",
       "      <td>[95, 99]</td>\n",
       "      <td>AU</td>\n",
       "      <td>male</td>\n",
       "      <td>0.000012</td>\n",
       "      <td>0.000376</td>\n",
       "    </tr>\n",
       "    <tr>\n",
       "      <th>2</th>\n",
       "      <td>[90, 94]</td>\n",
       "      <td>AU</td>\n",
       "      <td>male</td>\n",
       "      <td>0.000064</td>\n",
       "      <td>0.001965</td>\n",
       "    </tr>\n",
       "    <tr>\n",
       "      <th>3</th>\n",
       "      <td>[85, 89]</td>\n",
       "      <td>AU</td>\n",
       "      <td>male</td>\n",
       "      <td>0.000161</td>\n",
       "      <td>0.004932</td>\n",
       "    </tr>\n",
       "    <tr>\n",
       "      <th>4</th>\n",
       "      <td>[80, 84]</td>\n",
       "      <td>AU</td>\n",
       "      <td>male</td>\n",
       "      <td>0.000272</td>\n",
       "      <td>0.008318</td>\n",
       "    </tr>\n",
       "    <tr>\n",
       "      <th>5</th>\n",
       "      <td>[75, 79]</td>\n",
       "      <td>AU</td>\n",
       "      <td>male</td>\n",
       "      <td>0.000407</td>\n",
       "      <td>0.012457</td>\n",
       "    </tr>\n",
       "    <tr>\n",
       "      <th>6</th>\n",
       "      <td>[70, 74]</td>\n",
       "      <td>AU</td>\n",
       "      <td>male</td>\n",
       "      <td>0.000567</td>\n",
       "      <td>0.017347</td>\n",
       "    </tr>\n",
       "    <tr>\n",
       "      <th>7</th>\n",
       "      <td>[65, 69]</td>\n",
       "      <td>AU</td>\n",
       "      <td>male</td>\n",
       "      <td>0.000784</td>\n",
       "      <td>0.023994</td>\n",
       "    </tr>\n",
       "    <tr>\n",
       "      <th>8</th>\n",
       "      <td>[60, 64]</td>\n",
       "      <td>AU</td>\n",
       "      <td>male</td>\n",
       "      <td>0.000869</td>\n",
       "      <td>0.026585</td>\n",
       "    </tr>\n",
       "    <tr>\n",
       "      <th>9</th>\n",
       "      <td>[55, 59]</td>\n",
       "      <td>AU</td>\n",
       "      <td>male</td>\n",
       "      <td>0.000975</td>\n",
       "      <td>0.029846</td>\n",
       "    </tr>\n",
       "    <tr>\n",
       "      <th>...</th>\n",
       "      <td>...</td>\n",
       "      <td>...</td>\n",
       "      <td>...</td>\n",
       "      <td>...</td>\n",
       "      <td>...</td>\n",
       "    </tr>\n",
       "    <tr>\n",
       "      <th>410</th>\n",
       "      <td>[35, 39]</td>\n",
       "      <td>US</td>\n",
       "      <td>female</td>\n",
       "      <td>0.014140</td>\n",
       "      <td>0.031839</td>\n",
       "    </tr>\n",
       "    <tr>\n",
       "      <th>411</th>\n",
       "      <td>[30, 34]</td>\n",
       "      <td>US</td>\n",
       "      <td>female</td>\n",
       "      <td>0.014838</td>\n",
       "      <td>0.033411</td>\n",
       "    </tr>\n",
       "    <tr>\n",
       "      <th>412</th>\n",
       "      <td>[25, 29]</td>\n",
       "      <td>US</td>\n",
       "      <td>female</td>\n",
       "      <td>0.015040</td>\n",
       "      <td>0.033866</td>\n",
       "    </tr>\n",
       "    <tr>\n",
       "      <th>413</th>\n",
       "      <td>[20, 24]</td>\n",
       "      <td>US</td>\n",
       "      <td>female</td>\n",
       "      <td>0.015153</td>\n",
       "      <td>0.034122</td>\n",
       "    </tr>\n",
       "    <tr>\n",
       "      <th>414</th>\n",
       "      <td>[100]</td>\n",
       "      <td>US</td>\n",
       "      <td>male</td>\n",
       "      <td>0.000018</td>\n",
       "      <td>0.000040</td>\n",
       "    </tr>\n",
       "    <tr>\n",
       "      <th>415</th>\n",
       "      <td>[95, 99]</td>\n",
       "      <td>US</td>\n",
       "      <td>male</td>\n",
       "      <td>0.000157</td>\n",
       "      <td>0.000354</td>\n",
       "    </tr>\n",
       "    <tr>\n",
       "      <th>416</th>\n",
       "      <td>[90, 94]</td>\n",
       "      <td>US</td>\n",
       "      <td>male</td>\n",
       "      <td>0.000739</td>\n",
       "      <td>0.001664</td>\n",
       "    </tr>\n",
       "    <tr>\n",
       "      <th>417</th>\n",
       "      <td>[15, 19]</td>\n",
       "      <td>US</td>\n",
       "      <td>female</td>\n",
       "      <td>0.014438</td>\n",
       "      <td>0.032510</td>\n",
       "    </tr>\n",
       "    <tr>\n",
       "      <th>418</th>\n",
       "      <td>[85, 89]</td>\n",
       "      <td>US</td>\n",
       "      <td>male</td>\n",
       "      <td>0.001968</td>\n",
       "      <td>0.004432</td>\n",
       "    </tr>\n",
       "    <tr>\n",
       "      <th>419</th>\n",
       "      <td>[80, 84]</td>\n",
       "      <td>US</td>\n",
       "      <td>male</td>\n",
       "      <td>0.003336</td>\n",
       "      <td>0.007511</td>\n",
       "    </tr>\n",
       "  </tbody>\n",
       "</table>\n",
       "<p>420 rows × 5 columns</p>\n",
       "</div>"
      ],
      "text/plain": [
       "    age_bucket country_destination  gender  probs_total  probs_by_country\n",
       "0        [100]                  AU    male     0.000001          0.000042\n",
       "1     [95, 99]                  AU    male     0.000012          0.000376\n",
       "2     [90, 94]                  AU    male     0.000064          0.001965\n",
       "3     [85, 89]                  AU    male     0.000161          0.004932\n",
       "4     [80, 84]                  AU    male     0.000272          0.008318\n",
       "5     [75, 79]                  AU    male     0.000407          0.012457\n",
       "6     [70, 74]                  AU    male     0.000567          0.017347\n",
       "7     [65, 69]                  AU    male     0.000784          0.023994\n",
       "8     [60, 64]                  AU    male     0.000869          0.026585\n",
       "9     [55, 59]                  AU    male     0.000975          0.029846\n",
       "..         ...                 ...     ...          ...               ...\n",
       "410   [35, 39]                  US  female     0.014140          0.031839\n",
       "411   [30, 34]                  US  female     0.014838          0.033411\n",
       "412   [25, 29]                  US  female     0.015040          0.033866\n",
       "413   [20, 24]                  US  female     0.015153          0.034122\n",
       "414      [100]                  US    male     0.000018          0.000040\n",
       "415   [95, 99]                  US    male     0.000157          0.000354\n",
       "416   [90, 94]                  US    male     0.000739          0.001664\n",
       "417   [15, 19]                  US  female     0.014438          0.032510\n",
       "418   [85, 89]                  US    male     0.001968          0.004432\n",
       "419   [80, 84]                  US    male     0.003336          0.007511\n",
       "\n",
       "[420 rows x 5 columns]"
      ]
     },
     "execution_count": 192,
     "metadata": {},
     "output_type": "execute_result"
    }
   ],
   "source": [
    "age_gender_bkts"
   ]
  },
  {
   "cell_type": "code",
   "execution_count": 191,
   "metadata": {
    "collapsed": false
   },
   "outputs": [
    {
     "name": "stdout",
     "output_type": "stream",
     "text": [
      "['NDF' 'NDF' 'US' ..., 'NDF' 'NDF' 'NDF']\n",
      "[ 7  7 10 ...,  7  7  7]\n"
     ]
    }
   ],
   "source": [
    "# Splitting data into test and train\n",
    "vals = df_all.values\n",
    "X = vals[:count_rows_train]\n",
    "le = LabelEncoder()\n",
    "y = le.fit_transform(labels)   \n",
    "\n",
    "\n",
    "X_test = vals[count_rows_train:]\n",
    "\n",
    "print(labels)\n",
    "print (y)"
   ]
  },
  {
   "cell_type": "code",
   "execution_count": null,
   "metadata": {
    "collapsed": true
   },
   "outputs": [],
   "source": []
  }
 ],
 "metadata": {
  "kernelspec": {
   "display_name": "Python 3",
   "language": "python",
   "name": "python3"
  },
  "language_info": {
   "codemirror_mode": {
    "name": "ipython",
    "version": 3
   },
   "file_extension": ".py",
   "mimetype": "text/x-python",
   "name": "python",
   "nbconvert_exporter": "python",
   "pygments_lexer": "ipython3",
   "version": "3.5.1"
  }
 },
 "nbformat": 4,
 "nbformat_minor": 0
}
